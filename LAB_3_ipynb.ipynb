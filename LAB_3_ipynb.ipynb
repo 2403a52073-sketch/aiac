{
  "nbformat": 4,
  "nbformat_minor": 0,
  "metadata": {
    "colab": {
      "provenance": [],
      "authorship_tag": "ABX9TyPAPAUKLW4sEh4dljm0zaFG",
      "include_colab_link": true
    },
    "kernelspec": {
      "name": "python3",
      "display_name": "Python 3"
    },
    "language_info": {
      "name": "python"
    }
  },
  "cells": [
    {
      "cell_type": "markdown",
      "metadata": {
        "id": "view-in-github",
        "colab_type": "text"
      },
      "source": [
        "<a href=\"https://colab.research.google.com/github/2403a52073-sketch/aiac/blob/main/LAB_3_ipynb.ipynb\" target=\"_parent\"><img src=\"https://colab.research.google.com/assets/colab-badge.svg\" alt=\"Open In Colab\"/></a>"
      ]
    },
    {
      "cell_type": "markdown",
      "source": [
        "Task Description#1:\n",
        "Try 3 different prompts to generate a factorial function\n",
        "\n",
        "Prompt 1: Write a Python function called factorial that takes a non-negative integer n as input and returns the factorial of n.\n",
        "\n",
        "Prompt 2: Generate a Python function that calculates the factorial of a given number using a loop.\n",
        "\n",
        "Prompt 3: Create a Python function named calculate_factorial that accepts an integer and returns its factorial. Include docstrings explaining the function's purpose, parameters, and return value."
      ],
      "metadata": {
        "id": "vtbHtxbLKF0t"
      }
    },
    {
      "cell_type": "code",
      "metadata": {
        "colab": {
          "base_uri": "https://localhost:8080/"
        },
        "id": "Mhgu4eLBNqnI",
        "outputId": "e5689bb6-3e5c-45af-c449-bf27cfc08f56"
      },
      "source": [
        "def factorial(n):\n",
        "  \"\"\"\n",
        "  Calculates the factorial of a non-negative integer.\n",
        "\n",
        "  Args:\n",
        "    n: A non-negative integer.\n",
        "\n",
        "  Returns:\n",
        "    The factorial of n.\n",
        "  \"\"\"\n",
        "  if n < 0:\n",
        "    return \"Factorial is not defined for negative numbers\"\n",
        "  elif n == 0:\n",
        "    return 1\n",
        "  else:\n",
        "    result = 1\n",
        "    for i in range(1, n + 1):\n",
        "      result *= i\n",
        "    return result\n",
        "\n",
        "# Example usage:\n",
        "print(factorial(5))"
      ],
      "execution_count": 12,
      "outputs": [
        {
          "output_type": "stream",
          "name": "stdout",
          "text": [
            "120\n"
          ]
        }
      ]
    },
    {
      "cell_type": "code",
      "source": [
        "def calculate_factorial_with_loop(number):\n",
        "  \"\"\"\n",
        "  Calculates the factorial of a given number using a loop.\n",
        "\n",
        "  Args:\n",
        "    number: An integer.\n",
        "\n",
        "  Returns:\n",
        "    The factorial of the number.\n",
        "  \"\"\"\n",
        "  if number < 0:\n",
        "    return \"Factorial is not defined for negative numbers\"\n",
        "  elif number == 0:\n",
        "    return 1\n",
        "  else:\n",
        "    factorial_result = 1\n",
        "    for i in range(1, number + 1):\n",
        "      factorial_result *= i\n",
        "    return factorial_result\n",
        "\n",
        "# Example usage:\n",
        "print(calculate_factorial_with_loop(6))"
      ],
      "metadata": {
        "colab": {
          "base_uri": "https://localhost:8080/"
        },
        "id": "TF7zOU3IMyxR",
        "outputId": "a5fe5c00-9c5d-43f6-9f64-c6b735822efa"
      },
      "execution_count": 13,
      "outputs": [
        {
          "output_type": "stream",
          "name": "stdout",
          "text": [
            "720\n"
          ]
        }
      ]
    },
    {
      "cell_type": "code",
      "source": [
        "def calculate_factorial(integer):\n",
        "  \"\"\"\n",
        "  Calculates the factorial of a non-negative integer.\n",
        "\n",
        "  Args:\n",
        "    integer: A non-negative integer.\n",
        "\n",
        "  Returns:\n",
        "    The factorial of the integer.\n",
        "  \"\"\"\n",
        "  if integer < 0:\n",
        "    return \"Factorial is not defined for negative numbers\"\n",
        "  elif integer == 0:\n",
        "    return 1\n",
        "  else:\n",
        "    result = 1\n",
        "    for i in range(1, integer + 1):\n",
        "      result *= i\n",
        "    return result\n",
        "\n",
        "# Example usage:\n",
        "print(calculate_factorial(7))"
      ],
      "metadata": {
        "colab": {
          "base_uri": "https://localhost:8080/"
        },
        "id": "7oWzmLzSLQFK",
        "outputId": "7dcd4dbe-ae4d-4d24-d04a-4528950a54f6"
      },
      "execution_count": 14,
      "outputs": [
        {
          "output_type": "stream",
          "name": "stdout",
          "text": [
            "5040\n"
          ]
        }
      ]
    },
    {
      "cell_type": "markdown",
      "source": [
        "I can compare the three factorial functions generated. All three functions calculate the factorial of a non-negative integer using a loop and handle the cases for negative numbers and zero. The main differences are in the function names and parameter names as per the prompts:\n",
        "\n",
        "factorial(n) (cell id: Mhgu4eLBNqnI): Uses the function name factorial and parameter n.\n",
        "calculate_factorial_with_loop(number) (cell id: TF7zOU3IMyxR): Uses the function name calculate_factorial_with_loop and parameter number.\n",
        "calculate_factorial(integer) (cell id: 7oWzmLzSLQFK): Uses the function name calculate_factorial and parameter integer.\n",
        "Functionally, they are all very similar implementations of the factorial calculation using an iterative approach."
      ],
      "metadata": {
        "id": "2Mgiluq8NkWJ"
      }
    },
    {
      "cell_type": "markdown",
      "source": [
        "Task Description#2\n",
        "Provide a clear example input-output prompt to generate a sorting function\n",
        "\n",
        "Prompt:\n",
        "Write a Python function called sort_list that takes a list of numbers as input and returns a new list with the numbers sorted in ascending order"
      ],
      "metadata": {
        "id": "A1cKi2D1OFHD"
      }
    },
    {
      "cell_type": "code",
      "source": [
        "def sort_list(numbers):\n",
        "  \"\"\"\n",
        "  Sorts a list of numbers in ascending order.\n",
        "\n",
        "  Args:\n",
        "    numbers: A list of numbers.\n",
        "\n",
        "  Returns:\n",
        "    A new list with the numbers sorted in ascending order.\n",
        "  \"\"\"\n",
        "  return sorted(numbers)\n",
        "\n",
        "#Example usage:\n",
        "my_list = [3, 1, 4, 1, 5, 9, 2, 6]\n",
        "sorted_my_list = sort_list(my_list)\n",
        "print(sorted_my_list)"
      ],
      "metadata": {
        "colab": {
          "base_uri": "https://localhost:8080/"
        },
        "id": "wtND4IaUQIhK",
        "outputId": "56c53545-69e9-4883-dfd5-70c5b3a67753"
      },
      "execution_count": 11,
      "outputs": [
        {
          "output_type": "stream",
          "name": "stdout",
          "text": [
            "[1, 1, 2, 3, 4, 5, 6, 9]\n"
          ]
        }
      ]
    },
    {
      "cell_type": "code",
      "source": [
        "def sort_list(numbers):\n",
        "  \"\"\"\n",
        "  Sorts a list of numbers in ascending order.\n",
        "\n",
        "  Args:\n",
        "    numbers: A list of numbers.\n",
        "\n",
        "  Returns:\n",
        "    A new list with the numbers sorted in ascending order.\n",
        "  \"\"\"\n",
        "  return sorted(numbers)\n",
        "\n",
        "# Example usage:\n",
        "# my_list = [3, 1, 4, 1, 5, 9, 2, 6]\n",
        "# sorted_my_list = sort_list(my_list)\n",
        "# print(sorted_my_list)"
      ],
      "metadata": {
        "id": "IZx7m31fR5to"
      },
      "execution_count": null,
      "outputs": []
    },
    {
      "cell_type": "markdown",
      "source": [
        "Task Description#3\n",
        "• Start with the vague prompt “Generate python code to calculate power bill” and\n",
        "improve it step-by-step\n",
        "\n",
        "prompt:\n",
        "Generate python code to calculate power bill"
      ],
      "metadata": {
        "id": "Rc_vPO_-SEK0"
      }
    },
    {
      "cell_type": "code",
      "source": [
        "def calculate_power_bill(kwh_consumed, rate_per_kwh):\n",
        "  \"\"\"\n",
        "  Calculates a basic power bill based on kWh consumed and rate per kWh.\n",
        "\n",
        "  Args:\n",
        "    kwh_consumed: The total kilowatt-hours consumed.\n",
        "    rate_per_kwh: The cost per kilowatt-hour.\n",
        "\n",
        "  Returns:\n",
        "    The calculated power bill amount.\n",
        "  \"\"\"\n",
        "  if kwh_consumed < 0 or rate_per_kwh < 0:\n",
        "    return \"Invalid input: kWh consumed and rate per kWh cannot be negative.\"\n",
        "  else:\n",
        "    bill_amount = kwh_consumed * rate_per_kwh\n",
        "    return bill_amount\n",
        "\n",
        "# Example usage (assuming a rate of $0.12 per kWh):\n",
        "# kwh = 500\n",
        "# rate = 0.12\n",
        "# bill = calculate_power_bill(kwh, rate)\n",
        "# print(f\"The power bill is: ${bill:.2f}\")"
      ],
      "metadata": {
        "id": "pP4LxHGlSirY"
      },
      "execution_count": 17,
      "outputs": []
    },
    {
      "cell_type": "markdown",
      "source": [
        "Task Description#4\n",
        "• Write structured comments to help AI generate two linked functions (e.g., login_user()\n",
        "and register_user()).\n",
        "\n",
        "prompt:\n",
        "Generate two Python functions based on the following requirements and structured comments:"
      ],
      "metadata": {
        "id": "HSNAmdgkS7DH"
      }
    },
    {
      "cell_type": "code",
      "source": [
        "# This function should handle user registration.\n",
        "# It should take a username and password as input.\n",
        "# It should store the username and a hashed version of the password.\n",
        "# It should return True if registration is successful, False otherwise.\n",
        "def register_user(username, password, user_database):\n",
        "    \"\"\"Registers a new user.\"\"\"\n",
        "    if username in user_database:\n",
        "        print(f\"User '{username}' already exists.\")\n",
        "        return False\n",
        "    # In a real application, you would hash the password before storing it.\n",
        "    user_database[username] = password # Storing password in plain text for simplicity\n",
        "    print(f\"User '{username}' registered successfully.\")\n",
        "    return True\n",
        "\n",
        "# This function should handle user login.\n",
        "# It should take a username and password as input.\n",
        "# It should check if the username exists and if the provided password matches the stored password.\n",
        "# It should return True if login is successful, False otherwise.\n",
        "# This function is linked to register_user as it uses the same user storage.\n",
        "def login_user(username, password, user_database):\n",
        "    \"\"\"Logs in an existing user.\"\"\"\n",
        "    if username not in user_database:\n",
        "        print(f\"User '{username}' not found.\")\n",
        "        return False\n",
        "    # In a real application, you would compare the provided password hash with the stored hash.\n",
        "    if user_database[username] == password:\n",
        "        print(f\"User '{username}' logged in successfully.\")\n",
        "        return True\n",
        "    else:\n",
        "        print(\"Incorrect password.\")\n",
        "        return False\n",
        "\n",
        "# Example Usage (assuming a dictionary to simulate a user database):\n",
        "# user_database = {}\n",
        "# register_user(\"test_user\", \"password123\", user_database)\n",
        "# login_user(\"test_user\", \"password123\", user_database)\n",
        "# login_user(\"test_user\", \"wrong_password\", user_database)\n",
        "# login_user(\"non_existent_user\", \"any_password\", user_database)"
      ],
      "metadata": {
        "id": "QF9-xY-dTTiR"
      },
      "execution_count": null,
      "outputs": []
    },
    {
      "cell_type": "markdown",
      "source": [
        "Task Description#5\n",
        "• Analyzing Prompt Specificity: Improving Temperature Conversion Function with\n",
        "Clear Instructions\n",
        "\n",
        "prompt:\n",
        " Write a Python function called celsius_to_fahrenheit that takes a temperature in Celsius as a float and returns the equivalent temperature in Fahrenheit as a float.\n",
        "\n",
        "Formula: Fahrenheit = (Celsius * 9/5) + 32"
      ],
      "metadata": {
        "id": "ce-RjkAHTcFY"
      }
    },
    {
      "cell_type": "code",
      "source": [
        "def celsius_to_fahrenheit(celsius):\n",
        "  \"\"\"\n",
        "  Converts a temperature from Celsius to Fahrenheit.\n",
        "\n",
        "  Args:\n",
        "    celsius: The temperature in Celsius (float).\n",
        "\n",
        "  Returns:\n",
        "    The equivalent temperature in Fahrenheit (float).\n",
        "  \"\"\"\n",
        "  fahrenheit = (celsius * 9/5) + 32\n",
        "  return fahrenheit\n",
        "\n",
        "# Example usage:\n",
        "# celsius_temp = 25.0\n",
        "# fahrenheit_temp = celsius_to_fahrenheit(celsius_temp)\n",
        "# print(f\"{celsius_temp} degrees Celsius is equal to {fahrenheit_temp} degrees Fahrenheit.\")"
      ],
      "metadata": {
        "id": "B5dRw6r0Twjl"
      },
      "execution_count": null,
      "outputs": []
    }
  ]
}