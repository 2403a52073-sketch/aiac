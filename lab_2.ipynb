{
  "nbformat": 4,
  "nbformat_minor": 0,
  "metadata": {
    "colab": {
      "provenance": [],
      "authorship_tag": "ABX9TyMfFHhcXzc9+DA3yCDcZMxX",
      "include_colab_link": true
    },
    "kernelspec": {
      "name": "python3",
      "display_name": "Python 3"
    },
    "language_info": {
      "name": "python"
    }
  },
  "cells": [
    {
      "cell_type": "markdown",
      "metadata": {
        "id": "view-in-github",
        "colab_type": "text"
      },
      "source": [
        "<a href=\"https://colab.research.google.com/github/2403a52073-sketch/aiac/blob/main/lab_2.ipynb\" target=\"_parent\"><img src=\"https://colab.research.google.com/assets/colab-badge.svg\" alt=\"Open In Colab\"/></a>"
      ]
    },
    {
      "cell_type": "markdown",
      "source": [
        " Task Description#1\n",
        " ● Use Gemini in Colab to write a function that filters out all negative numbers from a given list.\n",
        "\n",
        " promt: write a function that filters out all negative numbers from a given list.\n"
      ],
      "metadata": {
        "id": "mhrOmGHl5cXH"
      }
    },
    {
      "cell_type": "code",
      "metadata": {
        "colab": {
          "base_uri": "https://localhost:8080/"
        },
        "id": "87d84797",
        "outputId": "e751b9e9-884d-4a52-d89e-343495b407fa"
      },
      "source": [
        "def filter_negative_numbers(input_list):\n",
        "  \"\"\"\n",
        "  Filters out all negative numbers from a given list.\n",
        "\n",
        "  Args:\n",
        "    input_list: A list of numbers.\n",
        "\n",
        "  Returns:\n",
        "    A new list containing only the non-negative numbers from the input list.\n",
        "  \"\"\"\n",
        "  return [number for number in input_list if number >= 0]\n",
        "\n",
        "# Example usage:\n",
        "my_list = [1, -2, 3, -4, 5, 0, -6]\n",
        "filtered_list = filter_negative_numbers(my_list)\n",
        "print(filtered_list)"
      ],
      "execution_count": 4,
      "outputs": [
        {
          "output_type": "stream",
          "name": "stdout",
          "text": [
            "[1, 3, 5, 0]\n"
          ]
        }
      ]
    },
    {
      "cell_type": "markdown",
      "source": [
        "expalation: [number for number in input_list if number >= 0]: This creates a new list.\n",
        "for number in input_list: It iterates through each number in the input_list.\n",
        "if number >= 0: For each number, it checks if it is greater than or equal to 0 (i.e., not negative).\n",
        "number: If the condition if number >= 0 is true, the current number is included in the new list.\n",
        "In essence, this line of code iterates through the original list and builds a new list containing only the numbers that are not negative.\n",
        "\n",
        "\n"
      ],
      "metadata": {
        "id": "NNKNSOMN534I"
      }
    },
    {
      "cell_type": "markdown",
      "source": [
        "Task Description#2\n",
        "● Ask Gemini to generate code that reads a text file and counts the frequency of each\n",
        "word. Then ask it to explain the code\n",
        "\n",
        "promt: generate code that reads a text file and counts the frequency of each word. Then ask it to explain the code"
      ],
      "metadata": {
        "id": "kBcRQnkF6HzV"
      }
    },
    {
      "cell_type": "code",
      "source": [
        "from collections import Counter\n",
        "import re\n",
        "\n",
        "def count_word_frequency(filepath):\n",
        "  \"\"\"\n",
        "  Reads a text file and counts the frequency of each word.\n",
        "\n",
        "  Args:\n",
        "    filepath: The path to the text file.\n",
        "\n",
        "  Returns:\n",
        "    A dictionary where keys are words and values are their frequencies.\n",
        "  \"\"\"\n",
        "  try:\n",
        "    with open(filepath, 'r', encoding='utf-8') as file:\n",
        "      text = file.read().lower()\n",
        "      # Use regex to find words (alphanumeric characters)\n",
        "      words = re.findall(r'\\b\\w+\\b', text)\n",
        "      word_counts = Counter(words)\n",
        "      return word_counts\n",
        "  except FileNotFoundError:\n",
        "    print(f\"Error: File not found at {filepath}\")\n",
        "    return None\n",
        "  except Exception as e:\n",
        "    print(f\"An error occurred: {e}\")\n",
        "    return None\n",
        "\n",
        "# Example usage (replace 'your_text_file.txt' with the actual file path):\n",
        "# Create a dummy text file for demonstration\n",
        "with open('your_text_file.txt', 'w') as f:\n",
        "    f.write(\"This is a sample text file. This file is for testing purposes.\")\n",
        "\n",
        "filepath = 'your_text_file.txt'\n",
        "word_frequencies = count_word_frequency(filepath)\n",
        "\n",
        "if word_frequencies:\n",
        "  # Print the word frequencies\n",
        "  for word, frequency in word_frequencies.items():\n",
        "    print(f\"{word}: {frequency}\")"
      ],
      "metadata": {
        "id": "-JdEzbzj60XH"
      },
      "execution_count": null,
      "outputs": []
    },
    {
      "cell_type": "markdown",
      "source": [
        " explanation: Certainly! The selected code snippet contains the core logic for reading the file, processing the text, and handling potential errors, as well as the example usage of the function. Here's a breakdown:\n",
        "\n",
        "1. File Reading and Processing (try block):\n",
        "\n",
        "try:: This block attempts to execute the code within it. This is used to handle potential errors that might occur during file operations.\n",
        "with open(filepath, 'r', encoding='utf-8') as file:: This opens the file located at filepath in read mode ('r') with UTF-8 encoding. The with statement ensures that the file is automatically closed even if errors occur. The opened file object is assigned to the variable file.\n",
        "text = file.read().lower(): This reads the entire content of the file into the text variable and converts it to lowercase using .lower(). This makes the word counting case-insensitive.\n",
        "words = re.findall(r'\\b\\w+\\b', text): This line uses the re module (regular expressions) to find all \"words\" in the text.\n",
        "re.findall(): This function finds all occurrences of a pattern in a string and returns them as a list.\n",
        "r'\\b\\w+\\b': This is the regular expression pattern.\n",
        "\\b: Matches a word boundary. This ensures that we match whole words and not just parts of words.\n",
        "\\w+: Matches one or more alphanumeric characters (letters, numbers, and underscore).\n",
        "word_counts = Counter(words): This uses the Counter class from the collections module to count the frequency of each item in the words list. Counter is a dictionary subclass where elements are stored as dictionary keys and their counts are stored as dictionary values.\n",
        "return word_counts: The function returns the word_counts dictionary, which contains the frequency of each word.\n",
        "2. Error Handling (except blocks):\n",
        "\n",
        "except FileNotFoundError:: This block catches the FileNotFoundError exception, which occurs if the specified file does not exist.\n",
        "print(f\"Error: File not found at {filepath}\"): If the file is not found, an error message is printed.\n",
        "return None: The function returns None to indicate that the word counting could not be performed due to the missing file.\n",
        "except Exception as e:: This block catches any other potential exceptions that might occur during the process.\n",
        "print(f\"An error occurred: {e}\"): An error message is printed, including the specific error that occurred.\n",
        "return None: The function returns None in case of any other error.\n",
        "3. Example Usage:\n",
        "\n",
        "with open('your_text_file.txt', 'w') as f:: This creates a dummy text file named your_text_file.txt in write mode ('w'). The with statement ensures the file is closed properly.\n",
        "f.write(\"This is a sample text file. This file is for testing purposes.\"): This writes some sample text into the dummy file.\n",
        "filepath = 'your_text_file.txt': This sets the filepath variable to the name of the dummy file.\n",
        "word_frequencies = count_word_frequency(filepath): This calls the count_word_frequency function with the filepath and stores the returned word frequencies in the word_frequencies variable.\n",
        "if word_frequencies:: This checks if word_frequencies is not None (meaning the function successfully returned word counts).\n",
        "for word, frequency in word_frequencies.items():: This iterates through the key-value pairs (word and its frequency) in the word_frequencies dictionary.\n",
        "print(f\"{word}: {frequency}\"): This prints each word and its corresponding frequency in the format \"word: frequency\".\n",
        "In summary, the selected code defines a function to count word frequencies in a file, includes error handling, and provides an example of how to use the function by creating a dummy file and printing the word counts.\n",
        "\n"
      ],
      "metadata": {
        "id": "zRueIpnT66lM"
      }
    },
    {
      "cell_type": "markdown",
      "source": [
        "Task Description#3\n",
        "● Use Cursor AI to generate a Python class called Book with attributes title, author, and\n",
        "a method summary() that prints the details\n",
        "\n",
        "promt: generate a Python class called Book with attributes title, author, and a method summary() that prints the details."
      ],
      "metadata": {
        "id": "upih_rkC7FGM"
      }
    },
    {
      "cell_type": "code",
      "source": [
        "class Book:\n",
        "  \"\"\"Represents a book with a title and author.\"\"\"\n",
        "\n",
        "  def __init__(self, title, author):\n",
        "    \"\"\"Initializes a new Book instance.\n",
        "\n",
        "    Args:\n",
        "      title: The title of the book.\n",
        "      author: The author of the book.\n",
        "    \"\"\"\n",
        "    self.title = title\n",
        "    self.author = author\n",
        "\n",
        "  def summary(self):\n",
        "    \"\"\"Prints the details of the book.\"\"\"\n",
        "    print(f\"Title: {self.title}\")\n",
        "    print(f\"Author: {self.author}\")\n",
        "\n",
        "# Example usage:\n",
        "my_book = Book(\"The Hitchhiker's Guide to the Galaxy\", \"Douglas Adams\")\n",
        "my_book.summary()"
      ],
      "metadata": {
        "id": "9uJREycd7ML0"
      },
      "execution_count": null,
      "outputs": []
    },
    {
      "cell_type": "markdown",
      "source": [
        " explanation: Certainly! The selected code snippet contains two methods within the Book class: the constructor (__init__) and the summary method. Here's what they do:\n",
        "\n",
        "__init__(self, title, author):\n",
        "This is the constructor method. It's a special method in Python classes that gets called automatically when you create a new object (instance) of the class.\n",
        "self: This refers to the instance of the class being created. It's a convention to use self as the first parameter in instance methods.\n",
        "title and author: These are parameters that you pass when creating a Book object. They represent the title and author of the book.\n",
        "self.title = title: This line assigns the value passed in the title parameter to an attribute of the instance called title.\n",
        "self.author = author: Similarly, this line assigns the value passed in the author parameter to an attribute of the instance called author.\n",
        "In essence, the __init__ method is used to initialize the attributes of a new Book object with the title and author you provide.\n",
        "def summary(self):\n",
        "This is a regular method of the Book class.\n",
        "self: Again, this refers to the instance of the class on which the method is called.\n",
        "The docstring explains that this method prints the details of the book.\n",
        "print(f\"Title: {self.title}\"): This line prints the value of the title attribute of the current Book instance. The f\"\" syntax is an f-string, which allows you to embed the value of a variable directly within a string.\n",
        "print(f\"Author: {self.author}\"): This line prints the value of the author attribute of the current Book instance using an f-string.\n",
        "The summary method is designed to display the title and author of a specific Book object.\n",
        "In summary, the __init__ method sets up a new Book object with its title and author, and the summary method provides a way to easily print those details for any Book object you create."
      ],
      "metadata": {
        "id": "r8-mn5Wz7RSV"
      }
    },
    {
      "cell_type": "markdown",
      "source": [
        " Task Description#4\n",
        " ● Ask Gemini to write a program that checks whether a number is an Armstrong number, and then modify it using Cursor AI to improve performance or structure\n",
        "\n",
        " promt: write a program that checks whether a number is an Armstrong number, and then modify it using Cursor AI to improve performance or structure"
      ],
      "metadata": {
        "id": "W56pOxvD7bzI"
      }
    },
    {
      "cell_type": "code",
      "source": [
        "def is_armstrong_number(number):\n",
        "  \"\"\"Checks if a number is an Armstrong number.\"\"\"\n",
        "  # Convert the number to a string to easily get the number of digits\n",
        "  num_str = str(number)\n",
        "  num_digits = len(num_str)\n",
        "\n",
        "  # Calculate the sum of digits raised to the power of the number of digits\n",
        "  sum_of_powers = 0\n",
        "  for digit in num_str:\n",
        "    sum_of_powers += int(digit) ** num_digits\n",
        "\n",
        "  # Check if the sum is equal to the original number\n",
        "  return sum_of_powers == number\n",
        "\n",
        "# Example usage:\n",
        "print(is_armstrong_number(153))  # Output: True\n",
        "print(is_armstrong_number(9))    # Output: True\n",
        "print(is_armstrong_number(10))   # Output: False"
      ],
      "metadata": {
        "id": "y8yUfJU47w-g"
      },
      "execution_count": null,
      "outputs": []
    },
    {
      "cell_type": "markdown",
      "source": [
        " explanation: certainly! The selected code snippet is the core logic for determining if a number is an Armstrong number. Here's a breakdown:\n",
        "\n",
        "# Convert the number to a string...: This comment indicates the purpose of the following lines.\n",
        "num_str = str(number): This converts the input number into a string. This is done to easily iterate through the digits of the number.\n",
        "num_digits = len(num_str): This calculates the number of digits in the number by getting the length of the string representation.\n",
        "# Calculate the sum of digits...: This comment indicates the purpose of the following lines.\n",
        "sum_of_powers = 0: Initializes a variable sum_of_powers to 0. This variable will store the sum of each digit raised to the power of the total number of digits.\n",
        "for digit in num_str:: This loop iterates through each character (which represents a digit) in the num_str string.\n",
        "sum_of_powers += int(digit) ** num_digits: Inside the loop:\n",
        "int(digit): Converts the current digit (which is a character) back into an integer.\n",
        "** num_digits: Raises the integer value of the digit to the power of num_digits (the total number of digits in the original number).\n",
        "sum_of_powers += ...: Adds the result of the power calculation to the sum_of_powers variable.\n",
        "# Check if the sum is equal...: This comment indicates the purpose of the following line.\n",
        "return sum_of_powers == number: This line compares the calculated sum_of_powers with the original number.\n",
        "If they are equal, it means the number is an Armstrong number, and the function returns True.\n",
        "If they are not equal, the number is not an Armstrong number, and the function returns False.\n",
        "In essence, this code calculates the sum of each digit raised to the power of the total number of digits and then checks if this sum is equal to the original number to determine if it's an Armstrong number.\n",
        "\n"
      ],
      "metadata": {
        "id": "K5vDcQ5g73-H"
      }
    },
    {
      "cell_type": "markdown",
      "source": [
        "Task Description#5\n",
        "● Use both Gemini and Cursor AI to generate code for sorting a list of dictionaries by a\n",
        "specific key (e.g., age)\n",
        "\n",
        "promt: generate code for sorting a list of dictionaries by a\n",
        "specific key (e.g., age)"
      ],
      "metadata": {
        "id": "w_72s1VH8Rat"
      }
    },
    {
      "cell_type": "code",
      "source": [
        "def sort_list_of_dicts(list_of_dicts, key_to_sort_by):\n",
        "  \"\"\"\n",
        "  Sorts a list of dictionaries by a specific key.\n",
        "\n",
        "  Args:\n",
        "    list_of_dicts: The list of dictionaries to sort.\n",
        "    key_to_sort_by: The key to sort the dictionaries by.\n",
        "\n",
        "  Returns:\n",
        "    A new list of dictionaries sorted by the specified key.\n",
        "  \"\"\"\n",
        "  return sorted(list_of_dicts, key=lambda x: x[key_to_sort_by])\n",
        "\n",
        "# Example usage:\n",
        "people = [\n",
        "    {'name': 'Alice', 'age': 30},\n",
        "    {'name': 'Bob', 'age': 25},\n",
        "    {'name': 'Charlie', 'age': 35},\n",
        "    {'name': 'David', 'age': 25}\n",
        "]\n",
        "\n",
        "sorted_people = sort_list_of_dicts(people, 'age')\n",
        "print(sorted_people)\n",
        "\n",
        "# Example of sorting by name:\n",
        "sorted_people_by_name = sort_list_of_dicts(people, 'name')\n",
        "print(sorted_people_by_name)"
      ],
      "metadata": {
        "id": "F13naD7M8bXb"
      },
      "execution_count": null,
      "outputs": []
    },
    {
      "cell_type": "markdown",
      "source": [
        "explanation: Certainly! The selected code snippet demonstrates how to use the sort_list_of_dicts function with an example list of dictionaries.\n",
        "\n",
        "people = [...]: This line creates a list of dictionaries named people. Each dictionary in the list represents a person with 'name' and 'age' as keys.\n",
        "sorted_people = sort_list_of_dicts(people, 'age'): This line calls the sort_list_of_dicts function with the people list and the key 'age'. The function sorts the list of dictionaries based on the 'age' values and returns a new sorted list, which is then stored in the sorted_people variable.\n",
        "print(sorted_people): This line prints the content of the sorted_people list to the console. You will see the dictionaries sorted in ascending order based on the 'age'.\n",
        "In essence, this code sets up a sample list of dictionaries and then uses the previously defined function to sort this list based on the 'age' of the people, finally printing the sorted list.\n",
        "\n"
      ],
      "metadata": {
        "id": "mIeqV2Et8isx"
      }
    }
  ]
}