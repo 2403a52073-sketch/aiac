{
  "nbformat": 4,
  "nbformat_minor": 0,
  "metadata": {
    "colab": {
      "provenance": [],
      "authorship_tag": "ABX9TyMEhBXy9ijkcvfiahTqizAp",
      "include_colab_link": true
    },
    "kernelspec": {
      "name": "python3",
      "display_name": "Python 3"
    },
    "language_info": {
      "name": "python"
    }
  },
  "cells": [
    {
      "cell_type": "markdown",
      "metadata": {
        "id": "view-in-github",
        "colab_type": "text"
      },
      "source": [
        "<a href=\"https://colab.research.google.com/github/2403a52073-sketch/aiac/blob/main/lab_2.ipynb\" target=\"_parent\"><img src=\"https://colab.research.google.com/assets/colab-badge.svg\" alt=\"Open In Colab\"/></a>"
      ]
    },
    {
      "cell_type": "code",
      "execution_count": null,
      "metadata": {
        "id": "hm02FQjssA8q"
      },
      "outputs": [],
      "source": []
    },
    {
      "cell_type": "markdown",
      "source": [
        "task0: build python function to check the given number is prime or not\n",
        "\n",
        "promt: write python function to check the given number is prime or not\n",
        "\n"
      ],
      "metadata": {
        "id": "Lt2b1-UhsP7L"
      }
    },
    {
      "cell_type": "code",
      "source": [
        "def is_prime(number):\n",
        "    \"\"\"Checks if a given number is prime.\"\"\"\n",
        "    if number <= 1:\n",
        "        return False\n",
        "    if number <= 3:\n",
        "        return True\n",
        "    if number % 2 == 0 or number % 3 == 0:\n",
        "        return False\n",
        "    i = 5\n",
        "    while i * i <= number:\n",
        "        if number % i == 0 or number % (i + 2) == 0:\n",
        "            return False\n",
        "        i += 6\n",
        "    return True\n",
        "\n",
        "# Example usage:\n",
        "print(is_prime(11))\n",
        "print(is_prime(10))"
      ],
      "metadata": {
        "colab": {
          "base_uri": "https://localhost:8080/"
        },
        "id": "EpVDFYKisr3m",
        "outputId": "ff10f114-35c1-44fc-c274-28813ab521a3"
      },
      "execution_count": 3,
      "outputs": [
        {
          "output_type": "stream",
          "name": "stdout",
          "text": [
            "True\n",
            "False\n"
          ]
        }
      ]
    },
    {
      "cell_type": "markdown",
      "source": [
        "Certainly! The selected code snippet is the core logic of the is_prime function. Here's a breakdown:\n",
        "\n",
        "if number <= 1: return False: This handles the base cases. Numbers less than or equal to 1 are not considered prime.\n",
        "if number <= 3: return True: This handles the base cases for 2 and 3, which are prime numbers.\n",
        "if number % 2 == 0 or number % 3 == 0: return False: This checks if the number is divisible by 2 or 3. If it is, it's not prime (except for 2 and 3 themselves, which are handled by the previous condition). This is an optimization as all prime numbers greater than 3 can be expressed in the form 6k ± 1.\n",
        "i = 5: Initializes a variable i to 5. This is the starting point for checking divisibility by other potential prime factors.\n",
        "while i * i <= number:: This is the main loop condition. We only need to check for divisors up to the square root of the number. If a number has a divisor greater than its square root, it must also have a divisor smaller than its square root.\n",
        "if number % i == 0 or number % (i + 2) == 0: return False: This checks if the number is divisible by i or i + 2. This is based on the optimization that prime numbers greater than 3 are of the form 6k ± 1. So, we check for divisibility by numbers of the form 6k - 1 (represented by i) and 6k + 1 (represented by i + 2).\n",
        "i += 6: Increments i by 6 in each iteration. This is because we are checking divisors of the form 6k ± 1. After checking i and i + 2, the next potential divisors of this form would be i + 6 and (i + 6) + 2.\n",
        "return True: If the loop completes without finding any divisors, the number is prime, and the function returns True.\n"
      ],
      "metadata": {
        "id": "J7Aa0c_KvAiE"
      }
    }
  ]
}